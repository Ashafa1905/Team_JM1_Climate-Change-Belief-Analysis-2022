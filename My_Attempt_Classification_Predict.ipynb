{
  "nbformat": 4,
  "nbformat_minor": 0,
  "metadata": {
    "colab": {
      "name": "My Attempt - Classification Predict.ipynb",
      "provenance": [],
      "collapsed_sections": []
    },
    "kernelspec": {
      "name": "python3",
      "display_name": "Python 3"
    },
    "language_info": {
      "name": "python"
    }
  },
  "cells": [
    {
      "cell_type": "markdown",
      "source": [
        "# PREDICT OVERVIEW: CLIMATE CHANGE BELIEF ANALYSIS 2022 \n",
        "\n",
        "Many companies are built around lessening one’s environmental impact or carbon footprint. They offer products and services that are environmentally friendly and sustainable, in line with their values and ideals. They would like to determine how people perceive climate change and whether or not they believe it is a real threat. This would add to their market research efforts in gauging how their product/service may be received. Our company has been awarded the contract to:\n",
        "\n",
        "\n",
        "\n",
        "\n",
        "1.   Analyse the supplied data;\n",
        "2.   Identify potential errors in the data and clean the existing data set;\n",
        "3. Determine if additional features can be added to enrich the data set;\n",
        "build a model that is capable of predicting tweets;\n",
        "4. Evaluate the accuracy of the best machine learning model;\n",
        "5. Determine what features were most important in the model’s prediction decision; and\n",
        "6. Explain the inner working of the model to a non-technical audience."
      ],
      "metadata": {
        "id": "8TpNGHndMVuP"
      }
    },
    {
      "cell_type": "markdown",
      "source": [
        "Table of Contents\n",
        "1. Importing Packages\n",
        "\n",
        "2. Loading Data\n",
        "\n",
        "3. Exploratory Data Analysis (EDA)\n",
        "\n",
        "4. Data Engineering\n",
        "\n",
        "5. Modeling\n",
        "\n",
        "6. Model Performance\n",
        "\n",
        "7. Model Explanations"
      ],
      "metadata": {
        "id": "f3bqwDvJNiku"
      }
    },
    {
      "cell_type": "markdown",
      "source": [
        "# IMPORTING PACKAGES"
      ],
      "metadata": {
        "id": "OS6b9T4dNk7E"
      }
    },
    {
      "cell_type": "code",
      "source": [
        "# library for natural language processing\n",
        "import nltk\n",
        "\n",
        "# libraries for importing and loading data\n",
        "import numpy as np\n",
        "import pandas as pd\n",
        "\n",
        "# libraries for plotting and data visualization\n",
        "import matplotlib.pyplot as plt\n",
        "%matplotlib inline\n",
        "import seaborn as sns\n",
        "sns.set()\n",
        "\n",
        "# Libraries for data preparation \n",
        "import re\n",
        "import string\n",
        "from sklearn import preprocessing\n",
        "from sklearn.model_selection import train_test_split\n",
        "from nltk.tokenize import word_tokenize, TreebankWordTokenizer\n",
        "from nltk import SnowballStemmer\n",
        "from nltk.stem import WordNetLemmatizer\n",
        "from nltk.corpus import stopwords\n",
        "from sklearn.preprocessing import LabelEncoder\n",
        "from sklearn.preprocessing import MinMaxScaler\n",
        "from sklearn.feature_extraction.text import TfidfVectorizer\n",
        "from sklearn.feature_extraction.text import CountVectorizer\n",
        "\n",
        "# Libraries for data visualizations\n",
        "import matplotlib.pyplot as plt\n",
        "import seaborn as sns\n",
        "\n",
        "# Libraries for model building\n",
        "from sklearn.linear_model import LogisticRegression\n",
        "from sklearn.pipeline import Pipeline\n",
        "\n",
        "# Libraries for assessing model accuracy \n",
        "from sklearn.metrics import accuracy_score\n",
        "from sklearn.metrics import roc_auc_score\n",
        "from sklearn.metrics import recall_score\n",
        "from sklearn.metrics import precision_score\n",
        "from sklearn.metrics import f1_score\n",
        "from sklearn.metrics import classification_report\n",
        "from sklearn.utils import resample\n",
        "from wordcloud import WordCloud, STOPWORDS , ImageColorGenerator\n",
        "\n",
        "# Setting global constants to ensure notebook results are reproducible\n",
        "\n",
        "RANDOM_STATE = 42\n",
        "\n",
        "\n",
        "import warnings\n",
        "warnings.filterwarnings('ignore')\n"
      ],
      "metadata": {
        "id": "OL7bGZDbgH3S"
      },
      "execution_count": 29,
      "outputs": []
    },
    {
      "cell_type": "markdown",
      "source": [
        "# BRIEF DESCRIPTION OF THE DATA\n",
        "\n",
        "\n",
        "\n",
        "The data chosen for this project aggregates tweets pertaining to climate change collected between Apr 27, 2015 and Feb 21, 2018. In total, 43943 tweets were collected. \n",
        "\n",
        "It is published on the Kaggle website and can is accessible using the following link: \n",
        "https://www.kaggle.com/competitions/edsa-climate-change-belief-analysis-2022/data\n",
        "\n",
        "There are three files available for download:\n",
        "* train.csv - You will use this data to train your model.\n",
        "* test.csv - You will use this data to test your model.\n",
        "* SampleSubmission.csv - is an example of what your submission file should look like. The order of the rows does not matter, but the names of the tweetid's must be correct.\n",
        "\n",
        "\n",
        "\n",
        "\n",
        "\n",
        "\n"
      ],
      "metadata": {
        "id": "7h4WA4dtQHFa"
      }
    },
    {
      "cell_type": "markdown",
      "source": [
        "# LOADING THE DATA\n",
        "\n",
        "This section loads the three files above "
      ],
      "metadata": {
        "id": "Re-YralCOfqe"
      }
    },
    {
      "cell_type": "code",
      "execution_count": 30,
      "metadata": {
        "id": "6hqqJjNLezrZ"
      },
      "outputs": [],
      "source": [
        "# load the train dataset\n",
        "train = pd.read_csv('/content/train.csv')\n",
        "\n",
        "# load the test dataset\n",
        "test = pd.read_csv('/content/test.csv')\n",
        "\n",
        "# load the sample submission dataset\n",
        "sample_submission = pd.read_csv('/content/sample_submission.csv')\n"
      ]
    },
    {
      "cell_type": "markdown",
      "source": [
        "# EXPLORATORY DATA ANALYSIS"
      ],
      "metadata": {
        "id": "szaEN9PoO2dQ"
      }
    },
    {
      "cell_type": "markdown",
      "source": [
        "1. VIEW THE TRAIN DATAFRAME\n",
        "\n"
      ],
      "metadata": {
        "id": "QAK5hTXAO53d"
      }
    },
    {
      "cell_type": "code",
      "source": [
        "# view the first five rows of the train dataframe\n",
        "train.head()"
      ],
      "metadata": {
        "colab": {
          "base_uri": "https://localhost:8080/",
          "height": 206
        },
        "id": "h0kVKsFvO_sr",
        "outputId": "08b92137-d749-4bcb-fd3e-2777c168803c"
      },
      "execution_count": 31,
      "outputs": [
        {
          "output_type": "execute_result",
          "data": {
            "text/plain": [
              "   sentiment                                            message  tweetid\n",
              "0          1  PolySciMajor EPA chief doesn't think carbon di...   625221\n",
              "1          1  It's not like we lack evidence of anthropogeni...   126103\n",
              "2          2  RT @RawStory: Researchers say we have three ye...   698562\n",
              "3          1  #TodayinMaker# WIRED : 2016 was a pivotal year...   573736\n",
              "4          1  RT @SoyNovioDeTodas: It's 2016, and a racist, ...   466954"
            ],
            "text/html": [
              "\n",
              "  <div id=\"df-1137c7cc-8799-4e0e-b250-a7fcd8a61704\">\n",
              "    <div class=\"colab-df-container\">\n",
              "      <div>\n",
              "<style scoped>\n",
              "    .dataframe tbody tr th:only-of-type {\n",
              "        vertical-align: middle;\n",
              "    }\n",
              "\n",
              "    .dataframe tbody tr th {\n",
              "        vertical-align: top;\n",
              "    }\n",
              "\n",
              "    .dataframe thead th {\n",
              "        text-align: right;\n",
              "    }\n",
              "</style>\n",
              "<table border=\"1\" class=\"dataframe\">\n",
              "  <thead>\n",
              "    <tr style=\"text-align: right;\">\n",
              "      <th></th>\n",
              "      <th>sentiment</th>\n",
              "      <th>message</th>\n",
              "      <th>tweetid</th>\n",
              "    </tr>\n",
              "  </thead>\n",
              "  <tbody>\n",
              "    <tr>\n",
              "      <th>0</th>\n",
              "      <td>1</td>\n",
              "      <td>PolySciMajor EPA chief doesn't think carbon di...</td>\n",
              "      <td>625221</td>\n",
              "    </tr>\n",
              "    <tr>\n",
              "      <th>1</th>\n",
              "      <td>1</td>\n",
              "      <td>It's not like we lack evidence of anthropogeni...</td>\n",
              "      <td>126103</td>\n",
              "    </tr>\n",
              "    <tr>\n",
              "      <th>2</th>\n",
              "      <td>2</td>\n",
              "      <td>RT @RawStory: Researchers say we have three ye...</td>\n",
              "      <td>698562</td>\n",
              "    </tr>\n",
              "    <tr>\n",
              "      <th>3</th>\n",
              "      <td>1</td>\n",
              "      <td>#TodayinMaker# WIRED : 2016 was a pivotal year...</td>\n",
              "      <td>573736</td>\n",
              "    </tr>\n",
              "    <tr>\n",
              "      <th>4</th>\n",
              "      <td>1</td>\n",
              "      <td>RT @SoyNovioDeTodas: It's 2016, and a racist, ...</td>\n",
              "      <td>466954</td>\n",
              "    </tr>\n",
              "  </tbody>\n",
              "</table>\n",
              "</div>\n",
              "      <button class=\"colab-df-convert\" onclick=\"convertToInteractive('df-1137c7cc-8799-4e0e-b250-a7fcd8a61704')\"\n",
              "              title=\"Convert this dataframe to an interactive table.\"\n",
              "              style=\"display:none;\">\n",
              "        \n",
              "  <svg xmlns=\"http://www.w3.org/2000/svg\" height=\"24px\"viewBox=\"0 0 24 24\"\n",
              "       width=\"24px\">\n",
              "    <path d=\"M0 0h24v24H0V0z\" fill=\"none\"/>\n",
              "    <path d=\"M18.56 5.44l.94 2.06.94-2.06 2.06-.94-2.06-.94-.94-2.06-.94 2.06-2.06.94zm-11 1L8.5 8.5l.94-2.06 2.06-.94-2.06-.94L8.5 2.5l-.94 2.06-2.06.94zm10 10l.94 2.06.94-2.06 2.06-.94-2.06-.94-.94-2.06-.94 2.06-2.06.94z\"/><path d=\"M17.41 7.96l-1.37-1.37c-.4-.4-.92-.59-1.43-.59-.52 0-1.04.2-1.43.59L10.3 9.45l-7.72 7.72c-.78.78-.78 2.05 0 2.83L4 21.41c.39.39.9.59 1.41.59.51 0 1.02-.2 1.41-.59l7.78-7.78 2.81-2.81c.8-.78.8-2.07 0-2.86zM5.41 20L4 18.59l7.72-7.72 1.47 1.35L5.41 20z\"/>\n",
              "  </svg>\n",
              "      </button>\n",
              "      \n",
              "  <style>\n",
              "    .colab-df-container {\n",
              "      display:flex;\n",
              "      flex-wrap:wrap;\n",
              "      gap: 12px;\n",
              "    }\n",
              "\n",
              "    .colab-df-convert {\n",
              "      background-color: #E8F0FE;\n",
              "      border: none;\n",
              "      border-radius: 50%;\n",
              "      cursor: pointer;\n",
              "      display: none;\n",
              "      fill: #1967D2;\n",
              "      height: 32px;\n",
              "      padding: 0 0 0 0;\n",
              "      width: 32px;\n",
              "    }\n",
              "\n",
              "    .colab-df-convert:hover {\n",
              "      background-color: #E2EBFA;\n",
              "      box-shadow: 0px 1px 2px rgba(60, 64, 67, 0.3), 0px 1px 3px 1px rgba(60, 64, 67, 0.15);\n",
              "      fill: #174EA6;\n",
              "    }\n",
              "\n",
              "    [theme=dark] .colab-df-convert {\n",
              "      background-color: #3B4455;\n",
              "      fill: #D2E3FC;\n",
              "    }\n",
              "\n",
              "    [theme=dark] .colab-df-convert:hover {\n",
              "      background-color: #434B5C;\n",
              "      box-shadow: 0px 1px 3px 1px rgba(0, 0, 0, 0.15);\n",
              "      filter: drop-shadow(0px 1px 2px rgba(0, 0, 0, 0.3));\n",
              "      fill: #FFFFFF;\n",
              "    }\n",
              "  </style>\n",
              "\n",
              "      <script>\n",
              "        const buttonEl =\n",
              "          document.querySelector('#df-1137c7cc-8799-4e0e-b250-a7fcd8a61704 button.colab-df-convert');\n",
              "        buttonEl.style.display =\n",
              "          google.colab.kernel.accessAllowed ? 'block' : 'none';\n",
              "\n",
              "        async function convertToInteractive(key) {\n",
              "          const element = document.querySelector('#df-1137c7cc-8799-4e0e-b250-a7fcd8a61704');\n",
              "          const dataTable =\n",
              "            await google.colab.kernel.invokeFunction('convertToInteractive',\n",
              "                                                     [key], {});\n",
              "          if (!dataTable) return;\n",
              "\n",
              "          const docLinkHtml = 'Like what you see? Visit the ' +\n",
              "            '<a target=\"_blank\" href=https://colab.research.google.com/notebooks/data_table.ipynb>data table notebook</a>'\n",
              "            + ' to learn more about interactive tables.';\n",
              "          element.innerHTML = '';\n",
              "          dataTable['output_type'] = 'display_data';\n",
              "          await google.colab.output.renderOutput(dataTable, element);\n",
              "          const docLink = document.createElement('div');\n",
              "          docLink.innerHTML = docLinkHtml;\n",
              "          element.appendChild(docLink);\n",
              "        }\n",
              "      </script>\n",
              "    </div>\n",
              "  </div>\n",
              "  "
            ]
          },
          "metadata": {},
          "execution_count": 31
        }
      ]
    },
    {
      "cell_type": "markdown",
      "source": [
        "From the results above, the train dataframe has three variables: \n",
        "\n",
        "\n",
        "*   sentiment: Sentiment of tweet\n",
        "*   message: Tweet body\n",
        "*   tweetid: Twitter unique id\n"
      ],
      "metadata": {
        "id": "HTxto3pOpw05"
      }
    },
    {
      "cell_type": "markdown",
      "source": [
        "2. VIEW THE TEST DATAFRAME\n",
        "\n"
      ],
      "metadata": {
        "id": "E1u6JlHKlFS0"
      }
    },
    {
      "cell_type": "code",
      "source": [
        "# view the first five rows of the test dataframe\n",
        "test.head()"
      ],
      "metadata": {
        "colab": {
          "base_uri": "https://localhost:8080/",
          "height": 206
        },
        "id": "XTfVZ7wmlIcz",
        "outputId": "0bdac613-f57f-4e0c-b34e-b50e1a24282a"
      },
      "execution_count": 9,
      "outputs": [
        {
          "output_type": "execute_result",
          "data": {
            "text/plain": [
              "                                             message  tweetid\n",
              "0  Europe will now be looking to China to make su...   169760\n",
              "1  Combine this with the polling of staffers re c...    35326\n",
              "2  The scary, unimpeachable evidence that climate...   224985\n",
              "3  @Karoli @morgfair @OsborneInk @dailykos \\r\\nPu...   476263\n",
              "4  RT @FakeWillMoore: 'Female orgasms cause globa...   872928"
            ],
            "text/html": [
              "\n",
              "  <div id=\"df-3132324a-6712-4f95-a18b-6532870ea9fb\">\n",
              "    <div class=\"colab-df-container\">\n",
              "      <div>\n",
              "<style scoped>\n",
              "    .dataframe tbody tr th:only-of-type {\n",
              "        vertical-align: middle;\n",
              "    }\n",
              "\n",
              "    .dataframe tbody tr th {\n",
              "        vertical-align: top;\n",
              "    }\n",
              "\n",
              "    .dataframe thead th {\n",
              "        text-align: right;\n",
              "    }\n",
              "</style>\n",
              "<table border=\"1\" class=\"dataframe\">\n",
              "  <thead>\n",
              "    <tr style=\"text-align: right;\">\n",
              "      <th></th>\n",
              "      <th>message</th>\n",
              "      <th>tweetid</th>\n",
              "    </tr>\n",
              "  </thead>\n",
              "  <tbody>\n",
              "    <tr>\n",
              "      <th>0</th>\n",
              "      <td>Europe will now be looking to China to make su...</td>\n",
              "      <td>169760</td>\n",
              "    </tr>\n",
              "    <tr>\n",
              "      <th>1</th>\n",
              "      <td>Combine this with the polling of staffers re c...</td>\n",
              "      <td>35326</td>\n",
              "    </tr>\n",
              "    <tr>\n",
              "      <th>2</th>\n",
              "      <td>The scary, unimpeachable evidence that climate...</td>\n",
              "      <td>224985</td>\n",
              "    </tr>\n",
              "    <tr>\n",
              "      <th>3</th>\n",
              "      <td>@Karoli @morgfair @OsborneInk @dailykos \\r\\nPu...</td>\n",
              "      <td>476263</td>\n",
              "    </tr>\n",
              "    <tr>\n",
              "      <th>4</th>\n",
              "      <td>RT @FakeWillMoore: 'Female orgasms cause globa...</td>\n",
              "      <td>872928</td>\n",
              "    </tr>\n",
              "  </tbody>\n",
              "</table>\n",
              "</div>\n",
              "      <button class=\"colab-df-convert\" onclick=\"convertToInteractive('df-3132324a-6712-4f95-a18b-6532870ea9fb')\"\n",
              "              title=\"Convert this dataframe to an interactive table.\"\n",
              "              style=\"display:none;\">\n",
              "        \n",
              "  <svg xmlns=\"http://www.w3.org/2000/svg\" height=\"24px\"viewBox=\"0 0 24 24\"\n",
              "       width=\"24px\">\n",
              "    <path d=\"M0 0h24v24H0V0z\" fill=\"none\"/>\n",
              "    <path d=\"M18.56 5.44l.94 2.06.94-2.06 2.06-.94-2.06-.94-.94-2.06-.94 2.06-2.06.94zm-11 1L8.5 8.5l.94-2.06 2.06-.94-2.06-.94L8.5 2.5l-.94 2.06-2.06.94zm10 10l.94 2.06.94-2.06 2.06-.94-2.06-.94-.94-2.06-.94 2.06-2.06.94z\"/><path d=\"M17.41 7.96l-1.37-1.37c-.4-.4-.92-.59-1.43-.59-.52 0-1.04.2-1.43.59L10.3 9.45l-7.72 7.72c-.78.78-.78 2.05 0 2.83L4 21.41c.39.39.9.59 1.41.59.51 0 1.02-.2 1.41-.59l7.78-7.78 2.81-2.81c.8-.78.8-2.07 0-2.86zM5.41 20L4 18.59l7.72-7.72 1.47 1.35L5.41 20z\"/>\n",
              "  </svg>\n",
              "      </button>\n",
              "      \n",
              "  <style>\n",
              "    .colab-df-container {\n",
              "      display:flex;\n",
              "      flex-wrap:wrap;\n",
              "      gap: 12px;\n",
              "    }\n",
              "\n",
              "    .colab-df-convert {\n",
              "      background-color: #E8F0FE;\n",
              "      border: none;\n",
              "      border-radius: 50%;\n",
              "      cursor: pointer;\n",
              "      display: none;\n",
              "      fill: #1967D2;\n",
              "      height: 32px;\n",
              "      padding: 0 0 0 0;\n",
              "      width: 32px;\n",
              "    }\n",
              "\n",
              "    .colab-df-convert:hover {\n",
              "      background-color: #E2EBFA;\n",
              "      box-shadow: 0px 1px 2px rgba(60, 64, 67, 0.3), 0px 1px 3px 1px rgba(60, 64, 67, 0.15);\n",
              "      fill: #174EA6;\n",
              "    }\n",
              "\n",
              "    [theme=dark] .colab-df-convert {\n",
              "      background-color: #3B4455;\n",
              "      fill: #D2E3FC;\n",
              "    }\n",
              "\n",
              "    [theme=dark] .colab-df-convert:hover {\n",
              "      background-color: #434B5C;\n",
              "      box-shadow: 0px 1px 3px 1px rgba(0, 0, 0, 0.15);\n",
              "      filter: drop-shadow(0px 1px 2px rgba(0, 0, 0, 0.3));\n",
              "      fill: #FFFFFF;\n",
              "    }\n",
              "  </style>\n",
              "\n",
              "      <script>\n",
              "        const buttonEl =\n",
              "          document.querySelector('#df-3132324a-6712-4f95-a18b-6532870ea9fb button.colab-df-convert');\n",
              "        buttonEl.style.display =\n",
              "          google.colab.kernel.accessAllowed ? 'block' : 'none';\n",
              "\n",
              "        async function convertToInteractive(key) {\n",
              "          const element = document.querySelector('#df-3132324a-6712-4f95-a18b-6532870ea9fb');\n",
              "          const dataTable =\n",
              "            await google.colab.kernel.invokeFunction('convertToInteractive',\n",
              "                                                     [key], {});\n",
              "          if (!dataTable) return;\n",
              "\n",
              "          const docLinkHtml = 'Like what you see? Visit the ' +\n",
              "            '<a target=\"_blank\" href=https://colab.research.google.com/notebooks/data_table.ipynb>data table notebook</a>'\n",
              "            + ' to learn more about interactive tables.';\n",
              "          element.innerHTML = '';\n",
              "          dataTable['output_type'] = 'display_data';\n",
              "          await google.colab.output.renderOutput(dataTable, element);\n",
              "          const docLink = document.createElement('div');\n",
              "          docLink.innerHTML = docLinkHtml;\n",
              "          element.appendChild(docLink);\n",
              "        }\n",
              "      </script>\n",
              "    </div>\n",
              "  </div>\n",
              "  "
            ]
          },
          "metadata": {},
          "execution_count": 9
        }
      ]
    },
    {
      "cell_type": "markdown",
      "source": [
        "From the results above, the test dataframe has only two variables: \n",
        "\n",
        "\n",
        "\n",
        "*   message: Tweet body\n",
        "*   tweetid: Twitter unique id\n",
        "\n",
        "\n",
        "\n",
        "\n",
        "\n",
        "\n"
      ],
      "metadata": {
        "id": "wxGnty5Lpt2V"
      }
    },
    {
      "cell_type": "markdown",
      "source": [
        "3. VIEW THE SAMPLE_SUBMISSION DATAFRAME"
      ],
      "metadata": {
        "id": "d5-sztYklO2P"
      }
    },
    {
      "cell_type": "code",
      "source": [
        "# view the first five rows of the sample_submission dataframe\n",
        "sample_submission.head()"
      ],
      "metadata": {
        "colab": {
          "base_uri": "https://localhost:8080/",
          "height": 206
        },
        "id": "cZfFiT9_lUj6",
        "outputId": "1b25d6df-b283-4670-e321-41c40bc18faf"
      },
      "execution_count": 10,
      "outputs": [
        {
          "output_type": "execute_result",
          "data": {
            "text/plain": [
              "   tweetid  sentiment\n",
              "0   169760          1\n",
              "1    35326          1\n",
              "2   224985          1\n",
              "3   476263          1\n",
              "4   872928          1"
            ],
            "text/html": [
              "\n",
              "  <div id=\"df-0561dca5-0563-4cde-bf94-fce332b8c54e\">\n",
              "    <div class=\"colab-df-container\">\n",
              "      <div>\n",
              "<style scoped>\n",
              "    .dataframe tbody tr th:only-of-type {\n",
              "        vertical-align: middle;\n",
              "    }\n",
              "\n",
              "    .dataframe tbody tr th {\n",
              "        vertical-align: top;\n",
              "    }\n",
              "\n",
              "    .dataframe thead th {\n",
              "        text-align: right;\n",
              "    }\n",
              "</style>\n",
              "<table border=\"1\" class=\"dataframe\">\n",
              "  <thead>\n",
              "    <tr style=\"text-align: right;\">\n",
              "      <th></th>\n",
              "      <th>tweetid</th>\n",
              "      <th>sentiment</th>\n",
              "    </tr>\n",
              "  </thead>\n",
              "  <tbody>\n",
              "    <tr>\n",
              "      <th>0</th>\n",
              "      <td>169760</td>\n",
              "      <td>1</td>\n",
              "    </tr>\n",
              "    <tr>\n",
              "      <th>1</th>\n",
              "      <td>35326</td>\n",
              "      <td>1</td>\n",
              "    </tr>\n",
              "    <tr>\n",
              "      <th>2</th>\n",
              "      <td>224985</td>\n",
              "      <td>1</td>\n",
              "    </tr>\n",
              "    <tr>\n",
              "      <th>3</th>\n",
              "      <td>476263</td>\n",
              "      <td>1</td>\n",
              "    </tr>\n",
              "    <tr>\n",
              "      <th>4</th>\n",
              "      <td>872928</td>\n",
              "      <td>1</td>\n",
              "    </tr>\n",
              "  </tbody>\n",
              "</table>\n",
              "</div>\n",
              "      <button class=\"colab-df-convert\" onclick=\"convertToInteractive('df-0561dca5-0563-4cde-bf94-fce332b8c54e')\"\n",
              "              title=\"Convert this dataframe to an interactive table.\"\n",
              "              style=\"display:none;\">\n",
              "        \n",
              "  <svg xmlns=\"http://www.w3.org/2000/svg\" height=\"24px\"viewBox=\"0 0 24 24\"\n",
              "       width=\"24px\">\n",
              "    <path d=\"M0 0h24v24H0V0z\" fill=\"none\"/>\n",
              "    <path d=\"M18.56 5.44l.94 2.06.94-2.06 2.06-.94-2.06-.94-.94-2.06-.94 2.06-2.06.94zm-11 1L8.5 8.5l.94-2.06 2.06-.94-2.06-.94L8.5 2.5l-.94 2.06-2.06.94zm10 10l.94 2.06.94-2.06 2.06-.94-2.06-.94-.94-2.06-.94 2.06-2.06.94z\"/><path d=\"M17.41 7.96l-1.37-1.37c-.4-.4-.92-.59-1.43-.59-.52 0-1.04.2-1.43.59L10.3 9.45l-7.72 7.72c-.78.78-.78 2.05 0 2.83L4 21.41c.39.39.9.59 1.41.59.51 0 1.02-.2 1.41-.59l7.78-7.78 2.81-2.81c.8-.78.8-2.07 0-2.86zM5.41 20L4 18.59l7.72-7.72 1.47 1.35L5.41 20z\"/>\n",
              "  </svg>\n",
              "      </button>\n",
              "      \n",
              "  <style>\n",
              "    .colab-df-container {\n",
              "      display:flex;\n",
              "      flex-wrap:wrap;\n",
              "      gap: 12px;\n",
              "    }\n",
              "\n",
              "    .colab-df-convert {\n",
              "      background-color: #E8F0FE;\n",
              "      border: none;\n",
              "      border-radius: 50%;\n",
              "      cursor: pointer;\n",
              "      display: none;\n",
              "      fill: #1967D2;\n",
              "      height: 32px;\n",
              "      padding: 0 0 0 0;\n",
              "      width: 32px;\n",
              "    }\n",
              "\n",
              "    .colab-df-convert:hover {\n",
              "      background-color: #E2EBFA;\n",
              "      box-shadow: 0px 1px 2px rgba(60, 64, 67, 0.3), 0px 1px 3px 1px rgba(60, 64, 67, 0.15);\n",
              "      fill: #174EA6;\n",
              "    }\n",
              "\n",
              "    [theme=dark] .colab-df-convert {\n",
              "      background-color: #3B4455;\n",
              "      fill: #D2E3FC;\n",
              "    }\n",
              "\n",
              "    [theme=dark] .colab-df-convert:hover {\n",
              "      background-color: #434B5C;\n",
              "      box-shadow: 0px 1px 3px 1px rgba(0, 0, 0, 0.15);\n",
              "      filter: drop-shadow(0px 1px 2px rgba(0, 0, 0, 0.3));\n",
              "      fill: #FFFFFF;\n",
              "    }\n",
              "  </style>\n",
              "\n",
              "      <script>\n",
              "        const buttonEl =\n",
              "          document.querySelector('#df-0561dca5-0563-4cde-bf94-fce332b8c54e button.colab-df-convert');\n",
              "        buttonEl.style.display =\n",
              "          google.colab.kernel.accessAllowed ? 'block' : 'none';\n",
              "\n",
              "        async function convertToInteractive(key) {\n",
              "          const element = document.querySelector('#df-0561dca5-0563-4cde-bf94-fce332b8c54e');\n",
              "          const dataTable =\n",
              "            await google.colab.kernel.invokeFunction('convertToInteractive',\n",
              "                                                     [key], {});\n",
              "          if (!dataTable) return;\n",
              "\n",
              "          const docLinkHtml = 'Like what you see? Visit the ' +\n",
              "            '<a target=\"_blank\" href=https://colab.research.google.com/notebooks/data_table.ipynb>data table notebook</a>'\n",
              "            + ' to learn more about interactive tables.';\n",
              "          element.innerHTML = '';\n",
              "          dataTable['output_type'] = 'display_data';\n",
              "          await google.colab.output.renderOutput(dataTable, element);\n",
              "          const docLink = document.createElement('div');\n",
              "          docLink.innerHTML = docLinkHtml;\n",
              "          element.appendChild(docLink);\n",
              "        }\n",
              "      </script>\n",
              "    </div>\n",
              "  </div>\n",
              "  "
            ]
          },
          "metadata": {},
          "execution_count": 10
        }
      ]
    },
    {
      "cell_type": "markdown",
      "source": [
        "From the results above, the sample submission has two variables as well: \n",
        "\n",
        "\n",
        "\n",
        "*   tweetid: the id repressing each tweet in the final submission\n",
        "*   sentiment: the predicted sentiment of each tweet\n",
        "\n",
        "\n",
        "\n",
        "\n"
      ],
      "metadata": {
        "id": "0tcH-TINp2S3"
      }
    },
    {
      "cell_type": "markdown",
      "source": [
        "4. NUMBER OF ROWS AND COLUMNS IN THE TRAIN AND DATAFRAMES"
      ],
      "metadata": {
        "id": "fjGDcS39lfO8"
      }
    },
    {
      "cell_type": "code",
      "source": [
        "#number of rows and columns\n",
        "print('The train dataframe has',train.shape[0],'rows and',train.shape[1],'columns')\n",
        "print('The test dataframe has',test.shape[0],'rows and',test.shape[1],'columns')"
      ],
      "metadata": {
        "colab": {
          "base_uri": "https://localhost:8080/"
        },
        "id": "B3hPEAR7zOzV",
        "outputId": "de0f6a48-d8eb-4c90-960b-072a666403ca"
      },
      "execution_count": 19,
      "outputs": [
        {
          "output_type": "stream",
          "name": "stdout",
          "text": [
            "The train dataframe has 15819 rows and 3 columns\n",
            "The test dataframe has 10546 rows and 2 columns\n"
          ]
        }
      ]
    },
    {
      "cell_type": "markdown",
      "source": [
        "5. CLASSIFICATION OF THE SENTIMENTS VARIABLE IN TRAIN DATAFRAME\n",
        "\n",
        "\n",
        "\n",
        "\n",
        "\n",
        "\n",
        "\n",
        "\n",
        "\n",
        "\n",
        "\n",
        "\n",
        "\n",
        "\n",
        "\n"
      ],
      "metadata": {
        "id": "bRwo4moZnBjm"
      }
    },
    {
      "cell_type": "code",
      "source": [
        "# checking the unique values/ categories in the sentiments column  \n",
        "train['sentiment'].value_counts()"
      ],
      "metadata": {
        "colab": {
          "base_uri": "https://localhost:8080/"
        },
        "id": "NUBdoIEOnHmD",
        "outputId": "4fd8aa86-c3dc-4a63-a28e-5a240dd5b55a"
      },
      "execution_count": 28,
      "outputs": [
        {
          "output_type": "execute_result",
          "data": {
            "text/plain": [
              " 1    8530\n",
              " 2    3640\n",
              " 0    2353\n",
              "-1    1296\n",
              "Name: sentiment, dtype: int64"
            ]
          },
          "metadata": {},
          "execution_count": 28
        }
      ]
    },
    {
      "cell_type": "markdown",
      "source": [
        "From the results below, there are four unique categories of sentiments, i.e. 1, 2, 0, and -1\n",
        "\n",
        "\n",
        "**Class Description**\n",
        "\n",
        "\n",
        "*   1 Pro: the tweet supports the belief of man-made climate change\n",
        "*   2 News: the tweet links to factual news about climate change\n",
        "*   0 Neutral: the tweet neither supports nor refutes the belief of man-made climate change\n",
        "*   -1 Anti: the tweet does not believe in man-made climate change"
      ],
      "metadata": {
        "id": "1GyAg_-Eq5Bc"
      }
    },
    {
      "cell_type": "markdown",
      "source": [
        "6. MISSING VALUES IN THE DATAFRAMES"
      ],
      "metadata": {
        "id": "obvvc96bq9WJ"
      }
    },
    {
      "cell_type": "code",
      "source": [
        "# check for missing values in the train data\n",
        "train.isnull().sum()"
      ],
      "metadata": {
        "colab": {
          "base_uri": "https://localhost:8080/"
        },
        "id": "-mqu-ZfErBS9",
        "outputId": "49fe53e5-83d0-4a18-f696-e48e6b9aee15"
      },
      "execution_count": 29,
      "outputs": [
        {
          "output_type": "execute_result",
          "data": {
            "text/plain": [
              "sentiment    0\n",
              "message      0\n",
              "tweetid      0\n",
              "dtype: int64"
            ]
          },
          "metadata": {},
          "execution_count": 29
        }
      ]
    },
    {
      "cell_type": "markdown",
      "source": [
        "From the results above, there are no missing values in the train data"
      ],
      "metadata": {
        "id": "V0BeY0a-rKc9"
      }
    },
    {
      "cell_type": "code",
      "source": [
        "# check for missing values in the test data\n",
        "test.isnull().sum()"
      ],
      "metadata": {
        "colab": {
          "base_uri": "https://localhost:8080/"
        },
        "id": "hKyPSuOXrVK5",
        "outputId": "1449f307-677b-4d72-d551-fd1d6a3b640d"
      },
      "execution_count": 30,
      "outputs": [
        {
          "output_type": "execute_result",
          "data": {
            "text/plain": [
              "message    0\n",
              "tweetid    0\n",
              "dtype: int64"
            ]
          },
          "metadata": {},
          "execution_count": 30
        }
      ]
    },
    {
      "cell_type": "markdown",
      "source": [
        "From the results above, there are no missing values in the test data"
      ],
      "metadata": {
        "id": "HkjET6wrrUZo"
      }
    },
    {
      "cell_type": "markdown",
      "source": [
        "# TEXT CLEANING SECTION\n",
        "\n",
        "This section cleans the text data in the 'message' column in the test and train data.\n",
        "\n",
        "It is important to clean data and rid it of any noises, so as to improve the performance of the classification models\n",
        "\n",
        "This data cleaning phases includes the following steps:\n",
        "\n",
        "\n",
        "*   Removing digits from the text,\n",
        "*   Converting the text into lower case,\n",
        "*   Removing punctuations and other noises, \n",
        "*   Removing url patterns, such as 'http', 'https', etc., \n",
        "\n",
        "\n"
      ],
      "metadata": {
        "id": "89-OnbiAhzF0"
      }
    },
    {
      "cell_type": "markdown",
      "source": [
        "**PREPROCESS AND TRANSFORM THE TEXT INTO VECTORS USING COUNTVECTORIZER()**\n",
        "\n",
        "The CountVectorizer() is an object that converts a collection of text documents to a matrix of token counts.\n",
        "\n",
        "Not only does it tokenize text, it also helps to clean the data and remove noises such as:\n",
        "\n",
        "\n",
        "\n",
        "*   Punctuation\n",
        "*   Stopwords\n",
        "*   Converts text to lower case\n",
        "*   Performs feature extraction \n",
        "\n",
        "\n",
        "\n",
        "\n",
        "\n",
        "We use it here to clean the data, then tokenize the words, and perform feature extraction\n",
        "\n",
        "\n",
        "\n"
      ],
      "metadata": {
        "id": "nCjjgyWQ19sZ"
      }
    },
    {
      "cell_type": "markdown",
      "source": [
        "**1. REMOVING DIGITS FROM THE TEXTS** \n",
        "\n",
        "The messages in the data contain some digits, which need to be removed, in order to reduce the noises"
      ],
      "metadata": {
        "id": "v0aQWbuewj8b"
      }
    },
    {
      "cell_type": "code",
      "source": [
        "# define function to remove punctuations\n",
        "def remove_digits(text):\n",
        "    return ''.join([i for i in text if not i.isdigit()])\n",
        "\n",
        "# call the function \n",
        "train['no_digits'] = train['message'].apply(remove_digits)\n",
        "test['no_digits'] = test['message'].apply(remove_digits)\n",
        "\n",
        "# view the results\n",
        "train.head()"
      ],
      "metadata": {
        "colab": {
          "base_uri": "https://localhost:8080/",
          "height": 206
        },
        "id": "2zj93eQAMTW0",
        "outputId": "660daf9c-cea5-49fb-e0c0-abdd4b58640f"
      },
      "execution_count": 32,
      "outputs": [
        {
          "output_type": "execute_result",
          "data": {
            "text/plain": [
              "   sentiment                                            message  tweetid  \\\n",
              "0          1  PolySciMajor EPA chief doesn't think carbon di...   625221   \n",
              "1          1  It's not like we lack evidence of anthropogeni...   126103   \n",
              "2          2  RT @RawStory: Researchers say we have three ye...   698562   \n",
              "3          1  #TodayinMaker# WIRED : 2016 was a pivotal year...   573736   \n",
              "4          1  RT @SoyNovioDeTodas: It's 2016, and a racist, ...   466954   \n",
              "\n",
              "                                           no_digits  \n",
              "0  PolySciMajor EPA chief doesn't think carbon di...  \n",
              "1  It's not like we lack evidence of anthropogeni...  \n",
              "2  RT @RawStory: Researchers say we have three ye...  \n",
              "3  #TodayinMaker# WIRED :  was a pivotal year in ...  \n",
              "4  RT @SoyNovioDeTodas: It's , and a racist, sexi...  "
            ],
            "text/html": [
              "\n",
              "  <div id=\"df-d6c8b220-6b01-44c1-800e-74759f08c3b7\">\n",
              "    <div class=\"colab-df-container\">\n",
              "      <div>\n",
              "<style scoped>\n",
              "    .dataframe tbody tr th:only-of-type {\n",
              "        vertical-align: middle;\n",
              "    }\n",
              "\n",
              "    .dataframe tbody tr th {\n",
              "        vertical-align: top;\n",
              "    }\n",
              "\n",
              "    .dataframe thead th {\n",
              "        text-align: right;\n",
              "    }\n",
              "</style>\n",
              "<table border=\"1\" class=\"dataframe\">\n",
              "  <thead>\n",
              "    <tr style=\"text-align: right;\">\n",
              "      <th></th>\n",
              "      <th>sentiment</th>\n",
              "      <th>message</th>\n",
              "      <th>tweetid</th>\n",
              "      <th>no_digits</th>\n",
              "    </tr>\n",
              "  </thead>\n",
              "  <tbody>\n",
              "    <tr>\n",
              "      <th>0</th>\n",
              "      <td>1</td>\n",
              "      <td>PolySciMajor EPA chief doesn't think carbon di...</td>\n",
              "      <td>625221</td>\n",
              "      <td>PolySciMajor EPA chief doesn't think carbon di...</td>\n",
              "    </tr>\n",
              "    <tr>\n",
              "      <th>1</th>\n",
              "      <td>1</td>\n",
              "      <td>It's not like we lack evidence of anthropogeni...</td>\n",
              "      <td>126103</td>\n",
              "      <td>It's not like we lack evidence of anthropogeni...</td>\n",
              "    </tr>\n",
              "    <tr>\n",
              "      <th>2</th>\n",
              "      <td>2</td>\n",
              "      <td>RT @RawStory: Researchers say we have three ye...</td>\n",
              "      <td>698562</td>\n",
              "      <td>RT @RawStory: Researchers say we have three ye...</td>\n",
              "    </tr>\n",
              "    <tr>\n",
              "      <th>3</th>\n",
              "      <td>1</td>\n",
              "      <td>#TodayinMaker# WIRED : 2016 was a pivotal year...</td>\n",
              "      <td>573736</td>\n",
              "      <td>#TodayinMaker# WIRED :  was a pivotal year in ...</td>\n",
              "    </tr>\n",
              "    <tr>\n",
              "      <th>4</th>\n",
              "      <td>1</td>\n",
              "      <td>RT @SoyNovioDeTodas: It's 2016, and a racist, ...</td>\n",
              "      <td>466954</td>\n",
              "      <td>RT @SoyNovioDeTodas: It's , and a racist, sexi...</td>\n",
              "    </tr>\n",
              "  </tbody>\n",
              "</table>\n",
              "</div>\n",
              "      <button class=\"colab-df-convert\" onclick=\"convertToInteractive('df-d6c8b220-6b01-44c1-800e-74759f08c3b7')\"\n",
              "              title=\"Convert this dataframe to an interactive table.\"\n",
              "              style=\"display:none;\">\n",
              "        \n",
              "  <svg xmlns=\"http://www.w3.org/2000/svg\" height=\"24px\"viewBox=\"0 0 24 24\"\n",
              "       width=\"24px\">\n",
              "    <path d=\"M0 0h24v24H0V0z\" fill=\"none\"/>\n",
              "    <path d=\"M18.56 5.44l.94 2.06.94-2.06 2.06-.94-2.06-.94-.94-2.06-.94 2.06-2.06.94zm-11 1L8.5 8.5l.94-2.06 2.06-.94-2.06-.94L8.5 2.5l-.94 2.06-2.06.94zm10 10l.94 2.06.94-2.06 2.06-.94-2.06-.94-.94-2.06-.94 2.06-2.06.94z\"/><path d=\"M17.41 7.96l-1.37-1.37c-.4-.4-.92-.59-1.43-.59-.52 0-1.04.2-1.43.59L10.3 9.45l-7.72 7.72c-.78.78-.78 2.05 0 2.83L4 21.41c.39.39.9.59 1.41.59.51 0 1.02-.2 1.41-.59l7.78-7.78 2.81-2.81c.8-.78.8-2.07 0-2.86zM5.41 20L4 18.59l7.72-7.72 1.47 1.35L5.41 20z\"/>\n",
              "  </svg>\n",
              "      </button>\n",
              "      \n",
              "  <style>\n",
              "    .colab-df-container {\n",
              "      display:flex;\n",
              "      flex-wrap:wrap;\n",
              "      gap: 12px;\n",
              "    }\n",
              "\n",
              "    .colab-df-convert {\n",
              "      background-color: #E8F0FE;\n",
              "      border: none;\n",
              "      border-radius: 50%;\n",
              "      cursor: pointer;\n",
              "      display: none;\n",
              "      fill: #1967D2;\n",
              "      height: 32px;\n",
              "      padding: 0 0 0 0;\n",
              "      width: 32px;\n",
              "    }\n",
              "\n",
              "    .colab-df-convert:hover {\n",
              "      background-color: #E2EBFA;\n",
              "      box-shadow: 0px 1px 2px rgba(60, 64, 67, 0.3), 0px 1px 3px 1px rgba(60, 64, 67, 0.15);\n",
              "      fill: #174EA6;\n",
              "    }\n",
              "\n",
              "    [theme=dark] .colab-df-convert {\n",
              "      background-color: #3B4455;\n",
              "      fill: #D2E3FC;\n",
              "    }\n",
              "\n",
              "    [theme=dark] .colab-df-convert:hover {\n",
              "      background-color: #434B5C;\n",
              "      box-shadow: 0px 1px 3px 1px rgba(0, 0, 0, 0.15);\n",
              "      filter: drop-shadow(0px 1px 2px rgba(0, 0, 0, 0.3));\n",
              "      fill: #FFFFFF;\n",
              "    }\n",
              "  </style>\n",
              "\n",
              "      <script>\n",
              "        const buttonEl =\n",
              "          document.querySelector('#df-d6c8b220-6b01-44c1-800e-74759f08c3b7 button.colab-df-convert');\n",
              "        buttonEl.style.display =\n",
              "          google.colab.kernel.accessAllowed ? 'block' : 'none';\n",
              "\n",
              "        async function convertToInteractive(key) {\n",
              "          const element = document.querySelector('#df-d6c8b220-6b01-44c1-800e-74759f08c3b7');\n",
              "          const dataTable =\n",
              "            await google.colab.kernel.invokeFunction('convertToInteractive',\n",
              "                                                     [key], {});\n",
              "          if (!dataTable) return;\n",
              "\n",
              "          const docLinkHtml = 'Like what you see? Visit the ' +\n",
              "            '<a target=\"_blank\" href=https://colab.research.google.com/notebooks/data_table.ipynb>data table notebook</a>'\n",
              "            + ' to learn more about interactive tables.';\n",
              "          element.innerHTML = '';\n",
              "          dataTable['output_type'] = 'display_data';\n",
              "          await google.colab.output.renderOutput(dataTable, element);\n",
              "          const docLink = document.createElement('div');\n",
              "          docLink.innerHTML = docLinkHtml;\n",
              "          element.appendChild(docLink);\n",
              "        }\n",
              "      </script>\n",
              "    </div>\n",
              "  </div>\n",
              "  "
            ]
          },
          "metadata": {},
          "execution_count": 32
        }
      ]
    },
    {
      "cell_type": "markdown",
      "source": [
        "From the results above, the text no longer contains digits"
      ],
      "metadata": {
        "id": "BaCrSDWN3fem"
      }
    },
    {
      "cell_type": "markdown",
      "source": [
        "**2. DEFINE THE RESPONSE AND PREDICTOR VARIABLES**\n",
        "\n",
        "Split the data into response (y) and predictor (X) variables:\n",
        "\n",
        "\n",
        "*   The predictor variable (x) in this case is the column with the messages,\n",
        "*   The response variable, on the other hand, is the column with the list of sentiments\n"
      ],
      "metadata": {
        "id": "HESUrQNgagZQ"
      }
    },
    {
      "cell_type": "code",
      "source": [
        "# the predictor variables\n",
        "X = train['no_digits']\n",
        "\n",
        "# the response variable\n",
        "y = train['sentiment']"
      ],
      "metadata": {
        "id": "54hBNs2ExuQK"
      },
      "execution_count": 55,
      "outputs": []
    },
    {
      "cell_type": "markdown",
      "source": [
        "**3. PERFORM A TRAIN-TEST SPLIT**\n",
        "\n",
        "Split the data into train and test sections in order to fit the classification models\n",
        "\n",
        "\n",
        "\n",
        "*   The train data is used to fit the model onto the data, while the test data is used to evaluate the performance of the model on unseen observations"
      ],
      "metadata": {
        "id": "6bH50D5YaZHt"
      }
    },
    {
      "cell_type": "code",
      "source": [
        "# import the train_test_split module from sklearn\n",
        "from sklearn.model_selection import train_test_split\n",
        "\n",
        "# split into train and test\n",
        "X_train, X_test, y_train, y_test = train_test_split(X, y, test_size=0.2, random_state=42)\n"
      ],
      "metadata": {
        "id": "YxM3MdlyxNYx"
      },
      "execution_count": 56,
      "outputs": []
    },
    {
      "cell_type": "markdown",
      "source": [
        "**4. IMPORT THE COUNTVECTORIZER() MODULE AND TUNE THE PARAMETERS**"
      ],
      "metadata": {
        "id": "hc04uDULyUUx"
      }
    },
    {
      "cell_type": "code",
      "source": [
        "# import the CountVectorizer module from sklearn\n",
        "from sklearn.feature_extraction.text import CountVectorizer\n",
        "\n",
        "# create an instance of the CountVectorizer() object and add parameters to it to handle stopwords and remove punctuations from text\n",
        "vectorizer = CountVectorizer(stop_words='english', token_pattern=r'(?u)\\b\\w\\w+\\b')\n"
      ],
      "metadata": {
        "id": "a4nBTHAh2QMS"
      },
      "execution_count": 47,
      "outputs": []
    },
    {
      "cell_type": "markdown",
      "source": [
        "**5. FIT THE COUNTVECTORIZER() INSTANCE ONTO THE TRAIN AND TEST DATASETS**"
      ],
      "metadata": {
        "id": "vcKtcOPPdH8e"
      }
    },
    {
      "cell_type": "code",
      "source": [
        "# fit transform the x_train data onto the countvectorizer()\n",
        "x_train_vectorized = vectorizer.fit_transform(X_train)\n",
        "\n",
        "# fit the x_test data onto the countvectorizer()\n",
        "x_test_vectorized = vectorizer.transform(X_test)\n"
      ],
      "metadata": {
        "id": "QrYtO7NSdWnP"
      },
      "execution_count": 49,
      "outputs": []
    },
    {
      "cell_type": "markdown",
      "source": [
        "# MODELLING\n",
        "\n",
        "This section builds and evaluates the performance of various classification models, such as:\n",
        "\n",
        "*   Logistic Regression\n",
        "*   Support Vector Machine\n",
        "*   Naive Bayes Classifier\n",
        "*   Kth Nearest Neighbour Classifier\n",
        "\n",
        "\n",
        "\n"
      ],
      "metadata": {
        "id": "o1n6XIcJzE1r"
      }
    },
    {
      "cell_type": "markdown",
      "source": [
        "**1. CLASSIFICATION MODEL 1: LOGISTIC REGRESSION**\n"
      ],
      "metadata": {
        "id": "XAfJiUx6eITb"
      }
    },
    {
      "cell_type": "code",
      "source": [
        "# import the LogisticRegression module from sklearn\n",
        "from sklearn.linear_model import LogisticRegression\n",
        "\n",
        "# create an instance of the LogisticRegression() object\n",
        "lr = LogisticRegression()\n",
        "\n",
        "# fit the model onto the train data\n",
        "lr.fit(x_train_vectorized, y_train)\n",
        "\n",
        "# generate predictions of the sentiment classifications\n",
        "pred_lr = lr.predict(x_test_vectorized)\n",
        "\n",
        "# calculate and print the performance of the LogisticRegression model\n",
        "print(\"The accuracy score of the Logistic Regression Classifier is:\", lr.score(x_test_cv,y_test))"
      ],
      "metadata": {
        "colab": {
          "base_uri": "https://localhost:8080/"
        },
        "id": "gOMydzYKeVA8",
        "outputId": "bae41c6e-b62c-467a-95ac-b35a39857e9a"
      },
      "execution_count": 71,
      "outputs": [
        {
          "output_type": "stream",
          "name": "stdout",
          "text": [
            "The accuracy score of the Logistic Regression Classifier is: 0.7531605562579013\n"
          ]
        }
      ]
    },
    {
      "cell_type": "markdown",
      "source": [
        "**2. CLASSIFICATION MODEL 2: SUPPORT VECTOR MACHINE**"
      ],
      "metadata": {
        "id": "U8PRNhJz2e6T"
      }
    },
    {
      "cell_type": "code",
      "source": [
        "# import the support vector machine classification module\n",
        "from sklearn.svm import SVC\n",
        "\n",
        "# create an instance of the SVC() object\n",
        "svc = SVC(kernel='rbf')\n",
        "\n",
        "# fit the svc model onto the train data\n",
        "svc.fit(x_train_vectorized, y_train)\n",
        "\n",
        "# generate predictions of the sentiments\n",
        "svc_pred = svc.predict(x_test_vectorized) \n",
        "\n",
        "# evaluate performance of the svc model\n",
        "from sklearn.metrics import classification_report, accuracy_score, log_loss\n",
        "print(\"The accuracy score of the Support Vector Machine Classifier is:\", accuracy_score(y_test, svc_pred))\n",
        "print(\"\\n\\nClassification Report:\\n\\n\", classification_report(y_test, svc_pred))"
      ],
      "metadata": {
        "colab": {
          "base_uri": "https://localhost:8080/"
        },
        "id": "uJUzoskc39Qn",
        "outputId": "680725e5-86e7-43a2-f6ac-298dd6205306"
      },
      "execution_count": 72,
      "outputs": [
        {
          "output_type": "stream",
          "name": "stdout",
          "text": [
            "The accuracy score of the Support Vector Machine Classifier is: 0.7319848293299621\n",
            "\n",
            "\n",
            "Classification Report:\n",
            "\n",
            "               precision    recall  f1-score   support\n",
            "\n",
            "          -1       0.89      0.23      0.37       278\n",
            "           0       0.66      0.37      0.47       425\n",
            "           1       0.73      0.89      0.80      1755\n",
            "           2       0.74      0.76      0.75       706\n",
            "\n",
            "    accuracy                           0.73      3164\n",
            "   macro avg       0.76      0.56      0.60      3164\n",
            "weighted avg       0.74      0.73      0.71      3164\n",
            "\n"
          ]
        }
      ]
    },
    {
      "cell_type": "markdown",
      "source": [
        "**3. CLASSIFICATION MODEL 3: NAIVE BAYES CLASSIFIER**"
      ],
      "metadata": {
        "id": "P9ooz8Ai6DdQ"
      }
    },
    {
      "cell_type": "code",
      "source": [
        "# import the Gaussian Naive Bayes classification module\n",
        "from sklearn.naive_bayes import GaussianNB\n",
        "\n",
        "# Define the model \n",
        "naive_bayes = GaussianNB()\n",
        "\n",
        "# Fit the model \n",
        "naive_bayes.fit(x_train_vectorized.toarray(), y_train)\n",
        "\n",
        "# generate predictions\n",
        "naive_pred = naive_bayes.predict_proba(x_test_vectorized.toarray())\n",
        "\n",
        "# calculate and print the log loss error\n",
        "print(\"The accuracy score of the Naive Bayes Classifier is:\", log_loss(y_test, naive_pred))"
      ],
      "metadata": {
        "colab": {
          "base_uri": "https://localhost:8080/"
        },
        "id": "zNfVRkqQ6IJZ",
        "outputId": "8e327b1e-88bc-46e4-b991-ff86a65c66d1"
      },
      "execution_count": 73,
      "outputs": [
        {
          "output_type": "stream",
          "name": "stdout",
          "text": [
            "The accuracy score of the Naive Bayes Classifier is: 15.446387041339639\n"
          ]
        }
      ]
    },
    {
      "cell_type": "markdown",
      "source": [
        "**4. CLASSIFICATION MODEL 4: K-NEAREST-NEIGHBOURS (KNN) CLASSIFIER**"
      ],
      "metadata": {
        "id": "WQYCzR5O8o9i"
      }
    },
    {
      "cell_type": "code",
      "source": [
        "# import the KNN module from sklearn\n",
        "from sklearn.neighbors import KNeighborsClassifier\n",
        "\n",
        "# define the number of neighbours\n",
        "n_neighbors = 3 # <--- change this number to play around with how many nearest neighbours to look for.\n",
        "\n",
        "# define the model\n",
        "knn = KNeighborsClassifier(n_neighbors)\n",
        "\n",
        "# fit the model \n",
        "knn.fit(x_train_vectorized, y_train)\n",
        "\n",
        "# get predictions on the test set \n",
        "knn_pred = knn.predict_proba(x_test_vectorized)\n",
        "\n",
        "# calculate and print the log loss error\n",
        "print(\"The log loss error for the KNN model is: \", log_loss(y_test, knn_pred))"
      ],
      "metadata": {
        "colab": {
          "base_uri": "https://localhost:8080/"
        },
        "id": "Wst5qlEZ6o46",
        "outputId": "6251bfaf-aa67-4cdf-a33e-b6f1e5d74ac4"
      },
      "execution_count": 74,
      "outputs": [
        {
          "output_type": "stream",
          "name": "stdout",
          "text": [
            "The log loss error for the KNN model is:  12.097323967437175\n"
          ]
        }
      ]
    },
    {
      "cell_type": "markdown",
      "source": [
        "For the log loss metric, lower is better, i.e.:, a perfect model would have a log loss of 0"
      ],
      "metadata": {
        "id": "Ro22mb1Q7lGO"
      }
    }
  ]
}