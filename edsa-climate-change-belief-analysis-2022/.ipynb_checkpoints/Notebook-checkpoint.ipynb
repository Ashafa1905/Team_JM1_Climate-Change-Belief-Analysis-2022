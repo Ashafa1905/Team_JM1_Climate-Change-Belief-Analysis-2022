{
 "cells": [
  {
   "cell_type": "markdown",
   "id": "376b851c",
   "metadata": {},
   "source": [
    "# Team JM1"
   ]
  },
  {
   "cell_type": "code",
   "execution_count": null,
   "id": "a48ab649",
   "metadata": {},
   "outputs": [],
   "source": []
  },
  {
   "cell_type": "markdown",
   "id": "fb35406f",
   "metadata": {},
   "source": [
    "### Data cleaning"
   ]
  },
  {
   "cell_type": "code",
   "execution_count": null,
   "id": "d18a8a16",
   "metadata": {},
   "outputs": [],
   "source": []
  },
  {
   "cell_type": "markdown",
   "id": "31e760bb",
   "metadata": {},
   "source": [
    "### Data Engineering "
   ]
  },
  {
   "cell_type": "code",
   "execution_count": null,
   "id": "e3ed90de",
   "metadata": {},
   "outputs": [],
   "source": []
  },
  {
   "cell_type": "markdown",
   "id": "d021cc57",
   "metadata": {},
   "source": [
    "### Exploratory data Analysis "
   ]
  },
  {
   "cell_type": "code",
   "execution_count": null,
   "id": "db09e41a",
   "metadata": {},
   "outputs": [],
   "source": []
  }
 ],
 "metadata": {
  "kernelspec": {
   "display_name": "Python 3 (ipykernel)",
   "language": "python",
   "name": "python3"
  },
  "language_info": {
   "codemirror_mode": {
    "name": "ipython",
    "version": 3
   },
   "file_extension": ".py",
   "mimetype": "text/x-python",
   "name": "python",
   "nbconvert_exporter": "python",
   "pygments_lexer": "ipython3",
   "version": "3.9.7"
  }
 },
 "nbformat": 4,
 "nbformat_minor": 5
}
